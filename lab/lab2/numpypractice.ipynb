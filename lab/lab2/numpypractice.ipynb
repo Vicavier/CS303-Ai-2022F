{
 "cells": [
  {
   "cell_type": "markdown",
   "id": "64da1d8e",
   "metadata": {},
   "source": [
    "## Practice\n",
    "\n",
    "1. Create a 10*10 ndarray object, and the matrix boundary value is 1, and the rest are 0.\n"
   ]
  },
  {
   "cell_type": "code",
   "execution_count": 2,
   "id": "f2c46fb0",
   "metadata": {},
   "outputs": [],
   "source": [
    "import numpy as np"
   ]
  },
  {
   "cell_type": "code",
   "execution_count": 3,
   "id": "035382e3",
   "metadata": {},
   "outputs": [
    {
     "data": {
      "text/plain": [
       "array([[1., 1., 1., 1., 1., 1., 1., 1., 1., 1.],\n",
       "       [1., 0., 0., 0., 0., 0., 0., 0., 0., 1.],\n",
       "       [1., 0., 0., 0., 0., 0., 0., 0., 0., 1.],\n",
       "       [1., 0., 0., 0., 0., 0., 0., 0., 0., 1.],\n",
       "       [1., 0., 0., 0., 0., 0., 0., 0., 0., 1.],\n",
       "       [1., 0., 0., 0., 0., 0., 0., 0., 0., 1.],\n",
       "       [1., 0., 0., 0., 0., 0., 0., 0., 0., 1.],\n",
       "       [1., 0., 0., 0., 0., 0., 0., 0., 0., 1.],\n",
       "       [1., 0., 0., 0., 0., 0., 0., 0., 0., 1.],\n",
       "       [1., 1., 1., 1., 1., 1., 1., 1., 1., 1.]])"
      ]
     },
     "execution_count": 3,
     "metadata": {},
     "output_type": "execute_result"
    }
   ],
   "source": [
    "#1\n",
    "mat0 = np.zeros((10,10))\n",
    "mat0[0,:] = mat0[9, :] = mat0[:, 0] = mat0[:, 9] = 1\n",
    "mat0"
   ]
  },
  {
   "cell_type": "markdown",
   "id": "8d3b3c80",
   "metadata": {},
   "source": [
    "2. Create a 5*5 matrix with each row being 0 to 4"
   ]
  },
  {
   "cell_type": "code",
   "execution_count": 4,
   "id": "6c26347e",
   "metadata": {},
   "outputs": [
    {
     "data": {
      "text/plain": [
       "array([[0, 1, 2, 3, 4],\n",
       "       [0, 1, 2, 3, 4],\n",
       "       [0, 1, 2, 3, 4],\n",
       "       [0, 1, 2, 3, 4],\n",
       "       [0, 1, 2, 3, 4]])"
      ]
     },
     "execution_count": 4,
     "metadata": {},
     "output_type": "execute_result"
    }
   ],
   "source": [
    "#2\n",
    "arr0 = np.array([0,1,2,3,4])\n",
    "np.tile(arr0,(5,1))"
   ]
  },
  {
   "cell_type": "markdown",
   "id": "8b226308",
   "metadata": {},
   "source": [
    "3. Create an 8*8 matrix and fill it with a checkerboard pattern, like [[0,1],[1,0]])"
   ]
  },
  {
   "cell_type": "code",
   "execution_count": 5,
   "id": "e83e8494",
   "metadata": {},
   "outputs": [
    {
     "data": {
      "text/plain": [
       "array([[0., 1., 0., 1., 0., 1., 0., 1.],\n",
       "       [1., 0., 1., 0., 1., 0., 1., 0.],\n",
       "       [0., 1., 0., 1., 0., 1., 0., 1.],\n",
       "       [1., 0., 1., 0., 1., 0., 1., 0.],\n",
       "       [0., 1., 0., 1., 0., 1., 0., 1.],\n",
       "       [1., 0., 1., 0., 1., 0., 1., 0.],\n",
       "       [0., 1., 0., 1., 0., 1., 0., 1.],\n",
       "       [1., 0., 1., 0., 1., 0., 1., 0.]])"
      ]
     },
     "execution_count": 5,
     "metadata": {},
     "output_type": "execute_result"
    }
   ],
   "source": [
    "#3\n",
    "mat1 = np.array([[0,1],[1,0]], dtype=float)\n",
    "np.tile(mat1,(4,4))\n"
   ]
  },
  {
   "cell_type": "markdown",
   "id": "04663245",
   "metadata": {},
   "source": [
    "4. output all the odd numbers in the array  \n",
    "   Example:  \n",
    "   in:    arr = np.array([0, 1, 2, 3, 4, 5, 6, 7, 8, 9])  \n",
    "   out:   array([1, 3, 5, 7, 9])  "
   ]
  },
  {
   "cell_type": "code",
   "execution_count": 6,
   "id": "7964df33",
   "metadata": {},
   "outputs": [
    {
     "data": {
      "text/plain": [
       "array([1, 3, 5, 7, 9])"
      ]
     },
     "execution_count": 6,
     "metadata": {},
     "output_type": "execute_result"
    }
   ],
   "source": [
    "#4\n",
    "arr1 = np.array([0,1,2,3,4,5,6,7,8,9])\n",
    "arr1[1::2]"
   ]
  },
  {
   "cell_type": "markdown",
   "id": "fc506104",
   "metadata": {},
   "source": [
    "5. Normalize a 5x5 random matrix "
   ]
  },
  {
   "cell_type": "code",
   "execution_count": 18,
   "id": "972284fd",
   "metadata": {},
   "outputs": [
    {
     "data": {
      "text/plain": [
       "array([[ 1.        ,  0.20689163, -0.58211354,  0.34230346, -0.18467004],\n",
       "       [-0.16944161,  0.34605905,  0.5885229 , -1.        , -0.07775171],\n",
       "       [-0.04986419,  0.15170873,  1.        , -0.28866   , -0.61305046],\n",
       "       [ 0.60281551, -1.        , -0.43098151, -0.66686656,  0.25533882],\n",
       "       [-1.        ,  0.13937296,  0.40849323, -0.36518181, -0.31903148]])"
      ]
     },
     "execution_count": 18,
     "metadata": {},
     "output_type": "execute_result"
    }
   ],
   "source": [
    "#5\n",
    "from sklearn.preprocessing import normalize\n",
    "mat2 = np.random.randn(5, 5)\n",
    "normalize(mat2,norm='max')"
   ]
  },
  {
   "cell_type": "markdown",
   "id": "df87456c",
   "metadata": {},
   "source": [
    "6. Consider a random 10x2 matrix representing cartesian coordinates, convert them to polar coordinates."
   ]
  },
  {
   "cell_type": "code",
   "execution_count": 28,
   "id": "125feb23",
   "metadata": {},
   "outputs": [
    {
     "name": "stdout",
     "output_type": "stream",
     "text": [
      "X, Y:\n",
      "[ 1.49484053  0.62098856  0.57397549 -1.71298434 -0.26134529 -0.28813399\n",
      " -1.66052595  0.1167016  -0.81813924  0.7104764 ]\n",
      "[ 1.06439602 -0.2034386  -0.12270125  0.045049   -0.02631653  0.34393921\n",
      " -0.20212828 -1.34002501 -1.06211596 -0.70123257]\n",
      "R:\n",
      "[1.8350714095801783, 0.6534631288840302, 0.5869441753628056, 1.71357659685904, 0.26266693995646107, 0.44868181891305303, 1.672782793982801, 1.3450971255578708, 1.3406871872147346, 0.9982503886665531]\n",
      "T:\n",
      "[0.1969590854912909, -0.10077235909864278, -0.06703746117293859, -0.00836915781267064, 0.03194497502958263, -0.2780306318287079, 0.038556729639644474, -0.4723484399891261, 0.2910735202890524, -0.24791574588771345]\n"
     ]
    }
   ],
   "source": [
    "#6\n",
    "import math\n",
    "print('X, Y:')\n",
    "mat3 = [np.random.randn(2, 10)]\n",
    "print(mat3[0][0]) \n",
    "print(mat3[0][1])\n",
    "R = []\n",
    "T = []\n",
    "\n",
    "for x, y in zip(mat3[0][0], mat3[0][1]):\n",
    "    R.append(np.sqrt(x*x+y*y))\n",
    "    T.append(np.arctan(y/x)/math.pi)\n",
    "print('R:')\n",
    "print(R)\n",
    "print('T:')\n",
    "print(T)"
   ]
  },
  {
   "cell_type": "markdown",
   "id": "c1cedf1f",
   "metadata": {},
   "source": [
    "7. Consider the vector [1, 2, 3, 4, 5], how to build a new vector with 3 consecutive zeros interleaved between each value?"
   ]
  },
  {
   "cell_type": "code",
   "execution_count": 49,
   "id": "c8a88dfd",
   "metadata": {},
   "outputs": [
    {
     "data": {
      "text/plain": [
       "array([1, 0, 0, 0, 2, 0, 0, 0, 3, 0, 0, 0, 4, 0, 0, 0, 5])"
      ]
     },
     "execution_count": 49,
     "metadata": {},
     "output_type": "execute_result"
    }
   ],
   "source": [
    "#7\n",
    "arr3 = np.array([1,2,3,4,5])\n",
    "mat4 = np.zeros((3,5), dtype=int)\n",
    "mat5 = np.vstack([arr3,mat4])\n",
    "arr4 = mat5.flatten('f')\n",
    "arr4[:-3]"
   ]
  },
  {
   "cell_type": "markdown",
   "id": "c7ea103c",
   "metadata": {},
   "source": [
    "8. What are the result of the following expressions?\n",
    "\n",
    "0 * np.nan\n",
    "\n",
    "np.nan == np.nan\n",
    "\n",
    "np.inf > np.nan\n",
    "\n",
    "np.nan - np.nan\n",
    "\n",
    "np.nan in set([np.nan])\n",
    "\n",
    "0.3 == 3 * 0.1 \n",
    "\n",
    "(hint1:nan means not a number \n",
    "hint2:0.1(10) == 0.0001100110011001100110011001100110011001100110011...(2))\n",
    "First guess a result, then print the result, and finally find why"
   ]
  },
  {
   "cell_type": "code",
   "execution_count": 52,
   "id": "ee65170c",
   "metadata": {},
   "outputs": [
    {
     "name": "stdout",
     "output_type": "stream",
     "text": [
      "0 * np.nan = nan\n",
      "np.nan == np.nan: False\n",
      "np.inf > np.nan: False\n",
      "np.nan - np.nan = nan\n",
      "np.nan in set([np.nan]): True\n",
      "0.3 == 3 * 0.1: False\n"
     ]
    }
   ],
   "source": [
    "#8 因为nan不是一个数，所以相关计算都无法得到数字。所有涉及nan的操作，返回的都是nan\n",
    "print('0 * np.nan =',0 * np.nan)\n",
    "\n",
    "print('np.nan == np.nan:',np.nan == np.nan)\n",
    "\n",
    "print('np.inf > np.nan:',np.inf > np.nan)\n",
    "\n",
    "print('np.nan - np.nan =',np.nan - np.nan)\n",
    "\n",
    "print('np.nan in set([np.nan]):',np.nan in set([np.nan]))\n",
    "\n",
    "print('0.3 == 3 * 0.1:',0.3 == 3 * 0.1)"
   ]
  },
  {
   "cell_type": "markdown",
   "id": "7218ef9e",
   "metadata": {},
   "source": [
    "9. What are the result of the following expressions? (Hint: the type of pn.nan is float)\n",
    "\n",
    "np.array(0) / np.array(0)\n",
    "\n",
    "np.array(0) // np.array(0)\n",
    "\n",
    "np.array([np.nan]).astype(int).astype(float)\n",
    "\n",
    "\n",
    "First guess a result, then print the result, and finally find why "
   ]
  },
  {
   "cell_type": "code",
   "execution_count": 60,
   "id": "cc0b2732",
   "metadata": {},
   "outputs": [
    {
     "name": "stdout",
     "output_type": "stream",
     "text": [
      "nan\n",
      "0\n",
      "[-2.14748365e+09]\n"
     ]
    },
    {
     "name": "stderr",
     "output_type": "stream",
     "text": [
      "C:\\Users\\21621\\AppData\\Local\\Temp\\ipykernel_27600\\1134272783.py:2: RuntimeWarning: invalid value encountered in divide\n",
      "  print(np.array(0) / np.array(0))\n",
      "C:\\Users\\21621\\AppData\\Local\\Temp\\ipykernel_27600\\1134272783.py:3: RuntimeWarning: divide by zero encountered in floor_divide\n",
      "  print(np.array(0) // np.array(0))\n"
     ]
    }
   ],
   "source": [
    "#9\n",
    "print(np.array(0) / np.array(0)) # 出现0除以0的情况\n",
    "print(np.array(0) // np.array(0)) # 被除数为0的警告\n",
    "#根据IEEE标准，NaN二进制表示为全1，所以转换为int型后，\n",
    "#变为负的最大值-2147483648，再转为float类型-2.14748365e+09\n",
    "print(np.array([np.nan]).astype(int).astype(float))\n"
   ]
  },
  {
   "cell_type": "code",
   "execution_count": 64,
   "id": "3b5c2204",
   "metadata": {},
   "outputs": [
    {
     "data": {
      "text/plain": [
       "array([-2147483648])"
      ]
     },
     "execution_count": 64,
     "metadata": {},
     "output_type": "execute_result"
    }
   ],
   "source": [
    "np.array([np.nan]).astype(int)"
   ]
  }
 ],
 "metadata": {
  "kernelspec": {
   "display_name": "Python 3.9.12 ('base')",
   "language": "python",
   "name": "python3"
  },
  "language_info": {
   "codemirror_mode": {
    "name": "ipython",
    "version": 3
   },
   "file_extension": ".py",
   "mimetype": "text/x-python",
   "name": "python",
   "nbconvert_exporter": "python",
   "pygments_lexer": "ipython3",
   "version": "3.9.12"
  },
  "vscode": {
   "interpreter": {
    "hash": "e0de05aca30c2091085a69a7ec6b5f2d82d49e30e8cadd8c74ff9a7b0568709d"
   }
  }
 },
 "nbformat": 4,
 "nbformat_minor": 5
}
