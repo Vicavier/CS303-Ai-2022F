{
 "cells": [
  {
   "cell_type": "markdown",
   "metadata": {},
   "source": [
    "### Snake: Simulate a snake game and print the game results.\n",
    "\n",
    "You are given a map that ‘x’ represents a rock, ‘-’represents a space, ‘#’represents the body of snake. ‘@’represent the head of the snake and a sequence of actions that ‘0,1,2,3’represent to move to up/down/left/right correspondingly for one step.\n",
    "A greedy snake starts in the map state and moves one step per unit of time according to the sequence of actions until all actions complete or fail. It will fail when the head and the stone overlap, the head goes beyond the boundary, or the head overlaps the body. \n",
    "\n",
    "#### Input\n",
    "A matrix with type char (the map). \n",
    "A sequence with type int (the motions). \n",
    "\n",
    "#### Output\n",
    "the the result of the game:\n",
    "If it failed, output the running time of the game.\n",
    "It it didn’t fail, output the final position of the head (in the form “%d, %d”)."
   ]
  },
  {
   "cell_type": "code",
   "execution_count": null,
   "metadata": {},
   "outputs": [],
   "source": [
    "\"\"\"\n",
    "Example:\n",
    "input:\n",
    "map:\n",
    "---------\n",
    "------x--\n",
    "-x-------\n",
    "---@-----\n",
    "---##----\n",
    "------x--\n",
    "--x----x-\n",
    "-x-------\n",
    "---------\n",
    "action:\n",
    "0 0 3 3 0 3 3 1 1 1 1 1 3 1 1 2 2 2 2 2\n",
    "\n",
    "output:\n",
    "7 3\n",
    "\"\"\""
   ]
  },
  {
   "cell_type": "code",
   "execution_count": 13,
   "metadata": {
    "pycharm": {
     "name": "#%%\n"
    }
   },
   "outputs": [],
   "source": [
    "# add your code here\n",
    "from collections import deque\n",
    "\n",
    "\n",
    "def find_head(game_map):\n",
    "    size = len(game_map)\n",
    "    x = y = flag = 0\n",
    "    for i in range(size):\n",
    "        for j in range(size):\n",
    "            if game_map[i][j] == '@':\n",
    "                x = i\n",
    "                y = j\n",
    "                flag = 1\n",
    "                break\n",
    "        if flag == 1:\n",
    "            break\n",
    "    return x, y\n",
    "\n",
    "\n",
    "def get_snake(head, game_map):\n",
    "    snake = deque()\n",
    "    size = len(game_map)\n",
    "    i = head[0]\n",
    "    j = head[1]\n",
    "    snake.append((i, j))\n",
    "    while size > i > 0 and size > j > 0:\n",
    "        if game_map[i + 1][j] == '#':\n",
    "            game_map[i + 1][j] = '-'\n",
    "            snake.append((i + 1, j))\n",
    "            i = i + 1\n",
    "            continue\n",
    "        elif game_map[i][j + 1] == '#':\n",
    "            game_map[i][j + 1] = '-'\n",
    "            snake.append((i, j + 1))\n",
    "            j = j + 1\n",
    "            continue\n",
    "        elif game_map[i - 1][j] == '#':\n",
    "            game_map[i - 1][j] = '-'\n",
    "            snake.append((i - 1, j))\n",
    "            i = i - 1\n",
    "            continue\n",
    "        elif game_map[i][j - 1] == '#':\n",
    "            game_map[i][j - 1] = '-'\n",
    "            snake.append((i, j - 1))\n",
    "            j = j - 1\n",
    "            continue\n",
    "        else:\n",
    "            break\n",
    "    return snake\n",
    "\n",
    "\n",
    "def solution(snake, game_map, action):\n",
    "    row = len(game_map)\n",
    "    col = len(game_map[0])\n",
    "    flag = cnt = 0\n",
    "    for move in action:\n",
    "        if move == 0:\n",
    "            y = snake[0][0] - 1\n",
    "            if y >= 0 and game_map[y][snake[0][1]] != 'x' and (y, snake[0][1]) not in snake:\n",
    "                snake.appendleft((y, snake[0][1]))\n",
    "                snake.pop()\n",
    "                cnt = cnt + 1\n",
    "            else:\n",
    "                flag = 1\n",
    "                return flag, snake[0][0], snake[0][1], cnt\n",
    "        elif move == 1:\n",
    "            y = snake[0][0] + 1\n",
    "            if y < row and game_map[y][snake[0][1]] != 'x' and (y, snake[0][1]) not in snake:\n",
    "                snake.appendleft((y, snake[0][1]))\n",
    "                snake.pop()\n",
    "                cnt = cnt + 1\n",
    "            else:\n",
    "                flag = 1\n",
    "                return flag, snake[0][0], snake[0][1], cnt\n",
    "        elif move == 2:\n",
    "            x = snake[0][1] - 1\n",
    "            if x >= 0 and game_map[snake[0][0]][x] != 'x' and (snake[0][0], x) not in snake:\n",
    "                snake.appendleft((snake[0][0], x))\n",
    "                snake.pop()\n",
    "                cnt = cnt + 1\n",
    "            else:\n",
    "                flag = 1\n",
    "                return flag, snake[0][0], snake[0][1], cnt\n",
    "        elif move == 3:\n",
    "            x = snake[0][1] + 1\n",
    "            if x < col and game_map[snake[0][0]][x] != 'x' and (snake[0][0], x) not in snake:\n",
    "                snake.appendleft((snake[0][0], x))\n",
    "                snake.pop()\n",
    "                cnt = cnt + 1\n",
    "            else:\n",
    "                flag = 1\n",
    "                return flag, snake[0][0], snake[0][1], cnt\n",
    "    return flag, snake[0][0], snake[0][1], cnt"
   ]
  },
  {
   "cell_type": "code",
   "execution_count": null,
   "metadata": {},
   "outputs": [],
   "source": []
  },
  {
   "cell_type": "code",
   "execution_count": null,
   "metadata": {},
   "outputs": [],
   "source": []
  },
  {
   "cell_type": "code",
   "execution_count": 18,
   "metadata": {
    "pycharm": {
     "name": "#%%\n"
    }
   },
   "outputs": [
    {
     "name": "stdout",
     "output_type": "stream",
     "text": [
      "[['-', '-', '-', '-', '-', '-', '-', '-', '-', '-', '-', '-', '-'], ['-', '-', '-', '-', '-', '-', 'x', '-', '-', '-', '-', '-', '-'], ['-', 'x', '-', '-', '-', '-', '-', '-', '-', '-', '-', '-', '-'], ['-', '-', '-', '@', '-', '-', '-', '-', '-', '-', 'x', '-', '-'], ['-', '-', '-', '#', '#', '#', '-', '-', '-', '-', 'x', '-', '-'], ['-', '-', '-', '-', '-', '#', '-', '-', '-', '-', 'x', '-', '-'], ['-', '-', 'x', '-', '-', '#', '-', '-', '-', '-', '-', '-', '-'], ['-', '-', '-', '#', '#', '#', '-', '-', '-', '-', '-', '-', '-'], ['-', '-', '-', '-', '-', '-', '-', '-', 'x', 'x', '-', '-', '-'], ['-', '-', '-', '-', '-', '-', '-', '-', '-', '-', '-', '-', '-']]\n",
      "[0, 3, 3, 3, 3, 1, 1, 1, 2, 2, 2, 1, 1, 3, 3, 3, 3, 3, 3, 1, 1, 2, 2, 2, 2, 0, 0, 0, 3, 3, 1, 2, 2, 2, 2, 0, 0, 0]\n",
      "deque([(3, 3), (4, 3), (4, 4), (4, 5), (5, 5), (6, 5), (7, 5), (7, 4), (7, 3)])\n",
      "18\n"
     ]
    }
   ],
   "source": [
    "# test block, you may need to modify this block.\n",
    "test_case = 4\n",
    "with open(f'test_cases/problem3/{test_case}-map.txt', 'r') as f:\n",
    "    game_map = [list(line.strip()) for line in f.readlines()]\n",
    "print(game_map)\n",
    "with open(f'./test_cases/problem3/{test_case}-actions.txt', 'r') as f:\n",
    "    actions = [*map(int, f.read().split(' '))]\n",
    "print(actions)\n",
    "head = find_head(game_map)\n",
    "snake = get_snake(head, game_map)\n",
    "print(snake)\n",
    "result = solution(snake, game_map, actions)\n",
    "if result[0] == 0:\n",
    "    print(result[1], result[2])\n",
    "else:\n",
    "    print(result[3])"
   ]
  },
  {
   "cell_type": "code",
   "execution_count": null,
   "metadata": {},
   "outputs": [],
   "source": []
  }
 ],
 "metadata": {
  "interpreter": {
   "hash": "6eea70d608ba4e65e3b5d32ac8522b4d78d39b471a2766e116e1911c1dde4fb7"
  },
  "kernelspec": {
   "display_name": "Python 3 (ipykernel)",
   "language": "python",
   "name": "python3"
  },
  "language_info": {
   "codemirror_mode": {
    "name": "ipython",
    "version": 3
   },
   "file_extension": ".py",
   "mimetype": "text/x-python",
   "name": "python",
   "nbconvert_exporter": "python",
   "pygments_lexer": "ipython3",
   "version": "3.9.12"
  }
 },
 "nbformat": 4,
 "nbformat_minor": 1
}
