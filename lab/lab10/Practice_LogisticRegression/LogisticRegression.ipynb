{
 "cells": [
  {
   "cell_type": "markdown",
   "metadata": {
    "pycharm": {
     "name": "#%% md\n"
    }
   },
   "source": [
    "# Logistic Regression\n",
    "\n",
    "In this lab, you need to implement a logistic regression algorithm and test your model on a subset of the iris dataset."
   ]
  },
  {
   "cell_type": "markdown",
   "metadata": {
    "pycharm": {
     "name": "#%% md\n"
    }
   },
   "source": [
    "### Part 1: Logistic regression algorithm\n",
    "\n",
    "The hypothsis function of logistic regression is:\n",
    "$$f(\\mathbf{x})=g(\\sum_{j=0}^{d}\\beta_j x_j),$$\n",
    "where $x_j(j>0)$ is the $j$-th dimension of input $\\mathbf{x}$, $\\beta_j$ is the weight of $x_j$, $x_0=1$, $\\beta_0$ is the intercept value, and $g(x)=\\frac{1}{1+e^{-x}}$ is the sigmoid function. The hypothsis function can also be written as:\n",
    "$$f(\\mathbf{x})=g(\\mathbf{\\beta}^T \\mathbf{x}).$$\n",
    "Remind that the first element in $\\mathbf{x}$ is 1 and the first element in $\\mathbf{\\beta}$ is the intercept value.\n",
    "\n",
    "<hr>\n",
    "  \n",
    "Given a train dataset $\\mathbb{D}_{train}=\\{(\\mathbf{x}_i, y_i)|i \\in [1,n], \\mathbf{x}_i \\in \\mathbb{R}^d, y_i \\in \\{0,1\\}\\}$. The cross-entropy loss function is:\n",
    "$$Loss=\\frac{1}{n}\\sum_{i=1}^{n}-y_ilog(f(\\mathbf{x}_i))-(1-y_i)log(1-f(\\mathbf{x}_i)).$$\n",
    "  \n",
    "Linear regression aims to minimize the loss function. The optimization process can be conducted by gradient descent algorithm. Given the learning rate $\\alpha$ and the number of iterations $n_{iters}$:\n",
    "1. Initialize the vector of $\\beta$ with $0$s.\n",
    "2. for _ in range($n_{iters}$):\n",
    "$$\\beta=\\beta-\\alpha*\\frac{\\partial Loss}{\\partial \\beta},$$\n",
    "where $\\frac{\\partial Loss}{\\partial \\beta}=\\frac{\\partial Loss}{\\partial f}*\\frac{\\partial f}{\\partial \\mathbf{\\beta}^T \\mathbf{x}}*\\frac{\\partial \\mathbf{\\beta}^T \\mathbf{x}}{\\partial \\mathbf{\\beta}}=\\frac{1}{n}\\sum_{i=1}^{n}(-\\frac{y_i}{f(\\mathbf{x}_i)}+\\frac{1-y_i}{1-f(\\mathbf{x}_i)})*(f(\\mathbf{x}_i)(1-f(\\mathbf{x}_i)))*\\mathbf{x}_i$(The deviation of matrix: <https://en.wikipedia.org/wiki/Matrix_calculus>)\n",
    "\n",
    "After training the model on the train dataset, we can then use this model to predict the labels for instances in the test dataset:\n",
    "$$\\hat{y}=\\left\\{\n",
    "\\begin{aligned}\n",
    "1, f(\\mathbf{x})\\geq\\frac{1}{2}\\\\\n",
    "0, f(\\mathbf{x})<\\frac{1}{2}\n",
    "\\end{aligned}\n",
    "\\right.$$\n",
    "\n",
    "<hr>\n",
    "\n",
    "**Tasks**\n",
    "\n",
    "* In this part, you need to implement the class `MyLogisticRegression` with 5 methods -- `__init__`, `fx`, `loss`, `fit`, and `predict` to perform above tasks."
   ]
  },
  {
   "cell_type": "code",
   "execution_count": 90,
   "metadata": {},
   "outputs": [
    {
     "name": "stdout",
     "output_type": "stream",
     "text": [
      "1.0\n",
      "1.0\n"
     ]
    }
   ],
   "source": [
    "import numpy as np\n",
    "\n",
    "x = [[1,2,3],[2,3,4]]\n",
    "y = [1,1,1]\n",
    "for i in range(len(x)):\n",
    "    print(1%(1+np.exp(-np.dot(x[i], y))))"
   ]
  },
  {
   "cell_type": "code",
   "execution_count": 91,
   "metadata": {
    "pycharm": {
     "name": "#%%\n"
    }
   },
   "outputs": [],
   "source": [
    "import numpy as np\n",
    "import math\n",
    "\n",
    "class MyLogisticRegression:\n",
    "    def __init__(self):\n",
    "        \"\"\"\n",
    "        Class contructor.\n",
    "        \n",
    "        :attr beta: weights vector of logistic regression.\n",
    "        \"\"\"\n",
    "        self.beta = None\n",
    "\n",
    "\n",
    "    def fx(self, X):\n",
    "        \"\"\"\n",
    "        Calculate the value of f(x) given x.\n",
    "\n",
    "        :param X: numpy.ndarray with a shape of (n, d), input data.\n",
    "        :return:\n",
    "            fx_value: numpy.ndarray with a length of n, output of f(x).\n",
    "        \"\"\"\n",
    "        n= X.shape[0]\n",
    "        fx_value = []\n",
    "        for i in range(n):\n",
    "            fx_value.append(1/(1+np.exp(-np.dot(X[i], self.beta))))\n",
    "        return fx_value\n",
    "\n",
    "    def loss(self, fx_value, y):\n",
    "        \"\"\"\n",
    "        Calculate the loss function given the calculated value f(x) and the true label y.\n",
    "\n",
    "        :param fx_value: numpy.ndarray with a length of n, \n",
    "                         a vector of hypothesis function values on these samples, which is the output of the function fx\n",
    "        :param y: numpy.ndarray with a length of n, \n",
    "                  a vector of the true labels of these samples\n",
    "        :return:\n",
    "            CELoss: a float value of the cross-entropy loss.\n",
    "        \"\"\"\n",
    "        n = len(fx_value)\n",
    "        sum = 0\n",
    "        for i in range(n):\n",
    "            sum -= y[i] * math.log(fx_value[i]) + (1 - y[i]) * math.log(1 - fx_value[i])\n",
    "        loss = sum / n\n",
    "        return loss\n",
    "\n",
    "    def fit(self, X, y, n_iters = 1000, alpha = 0.01):\n",
    "        \"\"\"\n",
    "        Train the model using gradient descent\n",
    "\n",
    "        :param X: numpy.ndarray with a shape of (n*d), input data.\n",
    "        :param y: numpy.ndarray with a length of n, the true labels of these samples\n",
    "        :param n_iters: int, number of iterations\n",
    "        :param alpha: float, learning rate\n",
    "        :return:\n",
    "            CELoss_list: list with a length of n_iters+1, \n",
    "                         contains the loss values before the gradient descent and after the gradient descent.\n",
    "        \"\"\"\n",
    "\n",
    "        n, d = X.shape\n",
    "        \n",
    "        self.beta = np.zeros(d+1)\n",
    "        #the first element in X_ is 1\n",
    "        X_ = np.column_stack([np.ones(n), X])\n",
    "        CELoss_list = [self.loss(self.fx(X_), y)]\n",
    "        fx_value = self.fx(X_)\n",
    "        \n",
    "        for i in range(n_iters):\n",
    "            self.beta = self.beta - alpha * np.dot(X_.T, (fx_value-y)/n)\n",
    "            \n",
    "            CELoss_list.append(self.loss(self.fx(X_), y))\n",
    "        return CELoss_list\n",
    "\n",
    "    def predict(self, X):\n",
    "        \"\"\"\n",
    "        Predict the labels of input instances.\n",
    "\n",
    "        :param X: numpy.ndarray with a shape of (n*d), input data.\n",
    "        :return:\n",
    "            y_hat: numpy.ndarray with a length of n, the predicted labels of these samples\n",
    "        \"\"\"\n",
    "        X_ = np.column_stack([np.ones(len(X)), X])\n",
    "        y_hat = []\n",
    "        fx_value = self.fx(X_)\n",
    "        for v in fx_value:\n",
    "            if v >= 0.5:\n",
    "                y_hat.append(1)\n",
    "            else:\n",
    "                y_hat.append(0)\n",
    "        return np.array(y_hat)"
   ]
  },
  {
   "cell_type": "markdown",
   "metadata": {
    "pycharm": {
     "name": "#%%\n"
    }
   },
   "source": [
    "### Part 2: Load dataset\n",
    "Here, we will use a popular machine learning dataset `Iris plants dataset`. Details of iris dataset can be found in <https://scikit-learn.org/stable/datasets/toy_dataset.html#iris-dataset>. For simplicity, we use the third and fourth attributes `petal length` and `petal width` to predict whether a iris plant is a `Iris-Setosa (class 0)` or a `Iris-Versicolor (class 1)`.\n",
    "![iris setosa](./setosa.png)\n",
    "![iris versicolor](./versicolor.png)"
   ]
  },
  {
   "cell_type": "code",
   "execution_count": 92,
   "metadata": {
    "pycharm": {
     "name": "#%%\n"
    },
    "scrolled": true
   },
   "outputs": [
    {
     "data": {
      "image/png": "[encoded data removed]",
      "text/plain": [
       "<Figure size 640x480 with 1 Axes>"
      ]
     },
     "metadata": {},
     "output_type": "display_data"
    }
   ],
   "source": [
    "import matplotlib.pyplot as plt\n",
    "import numpy as np\n",
    "from sklearn import datasets\n",
    "\n",
    "# load data\n",
    "iris = datasets.load_iris() \n",
    "X = iris.data[:, [2, 3]] \n",
    "y = iris.target\n",
    "y_mask = (y == 0) | (y == 1)\n",
    "X = X[y_mask]\n",
    "y = y[y_mask]\n",
    "\n",
    "# plot the data\n",
    "for idx, class_ in enumerate(np.unique(y)):       \n",
    "    plt.scatter(x=X[y == class_, 0], y=X[y == class_, 1],                   \n",
    "                alpha=0.8, label=\"class {}\".format(class_),                     \n",
    "                edgecolor='black')\n",
    "plt.legend()\n",
    "plt.show()"
   ]
  },
  {
   "cell_type": "markdown",
   "metadata": {},
   "source": [
    "### Part 3: Train dataset using your model\n",
    "In this part, you will use your logistic regression model to train a model and test whether it is good enough to handle the classification task of the iris dataset. Before all of these, we need to prepare the dataset first:\n",
    "* split the dataset into train and test part\n",
    "* standardize the data using the train dataset"
   ]
  },
  {
   "cell_type": "code",
   "execution_count": 93,
   "metadata": {},
   "outputs": [],
   "source": [
    "from sklearn.model_selection import train_test_split\n",
    "from sklearn.preprocessing import StandardScaler\n",
    "\n",
    "# split data into train and test datasets\n",
    "X_train, X_test, y_train, y_test = train_test_split( X, y, test_size=0.3, random_state=42, stratify=y) \n",
    "\n",
    "# standarize varibles by removing the mean and scaling to unit variance\n",
    "sc = StandardScaler()\n",
    "sc.fit(X_train)\n",
    "X_train_std = sc.transform(X_train) \n",
    "X_test_std = sc.transform(X_test)"
   ]
  },
  {
   "cell_type": "markdown",
   "metadata": {},
   "source": [
    "Train your model on the train dataset"
   ]
  },
  {
   "cell_type": "code",
   "execution_count": 94,
   "metadata": {},
   "outputs": [
    {
     "name": "stdout",
     "output_type": "stream",
     "text": [
      "Step 0: Cross-Entropy Loss: 0.6931471805599454\n",
      "Step 10: Cross-Entropy Loss: 0.6475820458284248\n",
      "Step 20: Cross-Entropy Loss: 0.604318914809314\n",
      "Step 30: Cross-Entropy Loss: 0.563338664168446\n",
      "Step 40: Cross-Entropy Loss: 0.5246099677948605\n",
      "Step 50: Cross-Entropy Loss: 0.488090080357744\n",
      "Step 60: Cross-Entropy Loss: 0.4537258673789902\n",
      "Step 70: Cross-Entropy Loss: 0.42145502414047176\n",
      "Step 80: Cross-Entropy Loss: 0.39120742051099366\n",
      "Step 90: Cross-Entropy Loss: 0.3629065091665853\n",
      "Step 100: Cross-Entropy Loss: 0.3364707397350015\n",
      "Step 110: Cross-Entropy Loss: 0.3118149297492772\n",
      "Step 120: Cross-Entropy Loss: 0.2888515534725616\n",
      "Step 130: Cross-Entropy Loss: 0.2674919203320959\n",
      "Step 140: Cross-Entropy Loss: 0.2476472248457064\n",
      "Step 150: Cross-Entropy Loss: 0.22922945885799087\n",
      "Step 160: Cross-Entropy Loss: 0.21215218426725949\n",
      "Step 170: Cross-Entropy Loss: 0.19633117011877121\n",
      "Step 180: Cross-Entropy Loss: 0.18168490204591176\n",
      "Step 190: Cross-Entropy Loss: 0.16813497474755906\n",
      "Step 200: Cross-Entropy Loss: 0.15560637973543248\n",
      "Step 210: Cross-Entropy Loss: 0.1440277012168606\n",
      "Step 220: Cross-Entropy Loss: 0.13333123292651014\n",
      "Step 230: Cross-Entropy Loss: 0.12345302818537654\n",
      "Step 240: Cross-Entropy Loss: 0.11433289461189514\n",
      "Step 250: Cross-Entropy Loss: 0.1059143438688086\n",
      "Step 260: Cross-Entropy Loss: 0.09814450569943452\n",
      "Step 270: Cross-Entropy Loss: 0.09097401436042417\n",
      "Step 280: Cross-Entropy Loss: 0.08435687444528611\n",
      "Step 290: Cross-Entropy Loss: 0.07825031204686443\n",
      "Step 300: Cross-Entropy Loss: 0.07261461624740084\n",
      "Step 310: Cross-Entropy Loss: 0.06741297506172432\n",
      "Step 320: Cross-Entropy Loss: 0.0626113091954264\n",
      "Step 330: Cross-Entropy Loss: 0.05817810631363587\n",
      "Step 340: Cross-Entropy Loss: 0.054084257942056575\n",
      "Step 350: Cross-Entropy Loss: 0.05030290063319534\n",
      "Step 360: Cross-Entropy Loss: 0.04680926261909019\n",
      "Step 370: Cross-Entropy Loss: 0.04358051682890189\n",
      "Step 380: Cross-Entropy Loss: 0.040595640867102246\n",
      "Step 390: Cross-Entropy Loss: 0.03783528431772011\n",
      "Step 400: Cross-Entropy Loss: 0.035281643554809394\n",
      "Step 410: Cross-Entropy Loss: 0.032918344092263116\n",
      "Step 420: Cross-Entropy Loss: 0.030730330391319293\n",
      "Step 430: Cross-Entropy Loss: 0.028703762956282564\n",
      "Step 440: Cross-Entropy Loss: 0.0268259224835069\n",
      "Step 450: Cross-Entropy Loss: 0.02508512078155542\n",
      "Step 460: Cross-Entropy Loss: 0.023470618148259285\n",
      "Step 470: Cross-Entropy Loss: 0.0219725468702397\n",
      "Step 480: Cross-Entropy Loss: 0.020581840499888652\n",
      "Step 490: Cross-Entropy Loss: 0.019290168561785073\n",
      "Step 500: Cross-Entropy Loss: 0.01808987634334901\n",
      "Step 510: Cross-Entropy Loss: 0.01697392943181061\n",
      "Step 520: Cross-Entropy Loss: 0.01593586267014266\n",
      "Step 530: Cross-Entropy Loss: 0.014969733217542193\n",
      "Step 540: Cross-Entropy Loss: 0.014070077414595462\n",
      "Step 550: Cross-Entropy Loss: 0.013231871168821399\n",
      "Step 560: Cross-Entropy Loss: 0.012450493592384095\n",
      "Step 570: Cross-Entropy Loss: 0.011721693640025245\n",
      "Step 580: Cross-Entropy Loss: 0.011041559511404911\n",
      "Step 590: Cross-Entropy Loss: 0.0104064905978401\n",
      "Step 600: Cross-Entropy Loss: 0.009813171768732873\n",
      "Step 610: Cross-Entropy Loss: 0.009258549807672723\n",
      "Step 620: Cross-Entropy Loss: 0.008739811822203085\n",
      "Step 630: Cross-Entropy Loss: 0.008254365464511812\n",
      "Step 640: Cross-Entropy Loss: 0.007799820812816202\n",
      "Step 650: Cross-Entropy Loss: 0.007373973774956146\n",
      "Step 660: Cross-Entropy Loss: 0.00697479088669261\n",
      "Step 670: Cross-Entropy Loss: 0.00660039538744737\n",
      "Step 680: Cross-Entropy Loss: 0.006249054465741021\n",
      "Step 690: Cross-Entropy Loss: 0.0059191675754152\n",
      "Step 700: Cross-Entropy Loss: 0.005609255731898544\n",
      "Step 710: Cross-Entropy Loss: 0.005317951705326292\n",
      "Step 720: Cross-Entropy Loss: 0.005043991034289738\n",
      "Step 730: Cross-Entropy Loss: 0.004786203790406051\n",
      "Step 740: Cross-Entropy Loss: 0.004543507029803\n",
      "Step 750: Cross-Entropy Loss: 0.004314897873036717\n",
      "Step 760: Cross-Entropy Loss: 0.004099447159941281\n",
      "Step 770: Cross-Entropy Loss: 0.003896293630477441\n",
      "Step 780: Cross-Entropy Loss: 0.0037046385868362264\n",
      "Step 790: Cross-Entropy Loss: 0.0035237409958892474\n",
      "Step 800: Cross-Entropy Loss: 0.0033529129945903758\n",
      "Step 810: Cross-Entropy Loss: 0.0031915157641484513\n",
      "Step 820: Cross-Entropy Loss: 0.0030389557417303263\n",
      "Step 830: Cross-Entropy Loss: 0.0028946811411432512\n",
      "Step 840: Cross-Entropy Loss: 0.0027581787564024637\n",
      "Step 850: Cross-Entropy Loss: 0.0026289710243367647\n",
      "Step 860: Cross-Entropy Loss: 0.0025066133244366516\n",
      "Step 870: Cross-Entropy Loss: 0.002390691496024523\n",
      "Step 880: Cross-Entropy Loss: 0.002280819554538599\n",
      "Step 890: Cross-Entropy Loss: 0.002176637590285941\n",
      "Step 900: Cross-Entropy Loss: 0.00207780983444855\n",
      "Step 910: Cross-Entropy Loss: 0.0019840228784292983\n",
      "Step 920: Cross-Entropy Loss: 0.0018949840338167419\n",
      "Step 930: Cross-Entropy Loss: 0.0018104198213331245\n",
      "Step 940: Cross-Entropy Loss: 0.0017300745781244752\n",
      "Step 950: Cross-Entropy Loss: 0.0016537091736568527\n",
      "Step 960: Cross-Entropy Loss: 0.001581099825310794\n",
      "Step 970: Cross-Entropy Loss: 0.0015120370055223791\n",
      "Step 980: Cross-Entropy Loss: 0.001446324433009452\n",
      "Step 990: Cross-Entropy Loss: 0.0013837781412514918\n",
      "Step 1000: Cross-Entropy Loss: 0.0013242256179689569\n"
     ]
    }
   ],
   "source": [
    "# initialize and train the model\n",
    "my_model = MyLogisticRegression()\n",
    "losses = my_model.fit(X_train_std, y_train)\n",
    "for i, loss in enumerate(losses):\n",
    "    if i%10 ==0:\n",
    "        print(\"Step {}: Cross-Entropy Loss: {}\".format(i, loss)) "
   ]
  },
  {
   "cell_type": "markdown",
   "metadata": {},
   "source": [
    "Test your model on the test dataset"
   ]
  },
  {
   "cell_type": "code",
   "execution_count": 95,
   "metadata": {},
   "outputs": [
    {
     "name": "stdout",
     "output_type": "stream",
     "text": [
      "The accuracy of your model is 1.0\n"
     ]
    }
   ],
   "source": [
    "from sklearn.metrics import accuracy_score\n",
    "\n",
    "y_pred = my_model.predict(X_test_std)\n",
    "acc = accuracy_score(y_test, y_pred)\n",
    "print(\"The accuracy of your model is {}\".format(acc))"
   ]
  },
  {
   "cell_type": "markdown",
   "metadata": {},
   "source": [
    "Plot the decision boundary on the whole dataset"
   ]
  },
  {
   "cell_type": "code",
   "execution_count": 96,
   "metadata": {},
   "outputs": [
    {
     "name": "stderr",
     "output_type": "stream",
     "text": [
      "C:\\Users\\21621\\AppData\\Local\\Temp\\ipykernel_22864\\620012955.py:21: UserWarning: You passed a edgecolor/edgecolors ('black') for an unfilled marker ('x').  Matplotlib is ignoring the edgecolor in favor of the facecolor.  This behavior may change in the future.\n",
      "  plt.scatter(x=X[y == class_, 0], y=X[y == class_, 1],\n"
     ]
    },
    {
     "data": {
      "image/png": "[encoded data removed]",
      "text/plain": [
       "<Figure size 640x480 with 1 Axes>"
      ]
     },
     "metadata": {},
     "output_type": "display_data"
    }
   ],
   "source": [
    "import matplotlib.pyplot as plt\n",
    "from matplotlib.colors import ListedColormap \n",
    "\n",
    "def plot_decision_regions(X, y, classifier,                            \n",
    "                          resolution=0.02):\n",
    "    # setup marker generator and color map    \n",
    "    markers = ('s', 'x', 'o', '^', 'v')    \n",
    "    colors = ('red', 'blue', 'lightgreen', 'gray', 'cyan')    \n",
    "    cmap = ListedColormap(colors[:len(np.unique(y))])\n",
    "    # plot the decision surface    \n",
    "    x1_min, x1_max = X[:, 0].min() - 1, X[:, 0].max() + 1    \n",
    "    x2_min, x2_max = X[:, 1].min() - 1, X[:, 1].max() + 1\n",
    "    xx1, xx2 = np.meshgrid(np.arange(x1_min, x1_max, resolution),                           \n",
    "                           np.arange(x2_min, x2_max, resolution))    \n",
    "    Z = classifier.predict(np.array([xx1.ravel(), xx2.ravel()]).T)\n",
    "    Z = Z.reshape(xx1.shape)    \n",
    "    plt.contourf(xx1, xx2, Z, alpha=0.3, cmap=cmap)    \n",
    "    plt.xlim(xx1.min(), xx1.max())    \n",
    "    plt.ylim(xx2.min(), xx2.max())\n",
    "    for idx, class_ in enumerate(np.unique(y)):       \n",
    "        plt.scatter(x=X[y == class_, 0], y=X[y == class_, 1],                   \n",
    "                    alpha=0.8, c=colors[idx],                    \n",
    "                    marker=markers[idx], label=\"class {}\".format(class_),                     \n",
    "                    edgecolor='black')\n",
    "        \n",
    "        plt.legend()\n",
    "        \n",
    "# remind that we still need to transform the whole dataset first\n",
    "X_std = sc.transform(X)\n",
    "plot_decision_regions(X_std, y, classifier=my_model)"
   ]
  },
  {
   "cell_type": "markdown",
   "metadata": {},
   "source": [
    "### Part 4: Using regression logistic model in sklearn module\n",
    "`sklearn` (short for scikit-learn) is a module basing on `numpy` and `scipy`.\n",
    "This project is initialized by `David Cournapeau` in 2007.\n",
    "After years development by the community, it is already one of the most powerful package in Python.\n",
    "\n",
    "Basically, this package contains all the well-used tools in a complete data mining or machine learning process.\n",
    "\n",
    "Link to the project: [Github/scikit-learn](https://github.com/scikit-learn/scikit-learn)\n",
    "\n",
    "\n",
    "As the picture shows, this package contains all the well-used tools in a complete data mining or machine learning process.\n",
    "\n",
    "![](ml_map.png)"
   ]
  },
  {
   "cell_type": "code",
   "execution_count": 97,
   "metadata": {},
   "outputs": [
    {
     "name": "stderr",
     "output_type": "stream",
     "text": [
      "C:\\Users\\21621\\AppData\\Local\\Temp\\ipykernel_22864\\620012955.py:21: UserWarning: You passed a edgecolor/edgecolors ('black') for an unfilled marker ('x').  Matplotlib is ignoring the edgecolor in favor of the facecolor.  This behavior may change in the future.\n",
      "  plt.scatter(x=X[y == class_, 0], y=X[y == class_, 1],\n"
     ]
    },
    {
     "data": {
      "image/png": "[encoded data removed]",
      "text/plain": [
       "<Figure size 640x480 with 1 Axes>"
      ]
     },
     "metadata": {},
     "output_type": "display_data"
    }
   ],
   "source": [
    "from sklearn.linear_model import LogisticRegression\n",
    "\n",
    "lr = LogisticRegression()\n",
    "lr.fit(X_train_std, y_train)\n",
    "\n",
    "X_std = sc.transform(X)\n",
    "plot_decision_regions(X_std, y, classifier=lr)"
   ]
  }
 ],
 "metadata": {
  "kernelspec": {
   "display_name": "Python 3.9.1 64-bit",
   "language": "python",
   "name": "python3"
  },
  "language_info": {
   "codemirror_mode": {
    "name": "ipython",
    "version": 3
   },
   "file_extension": ".py",
   "mimetype": "text/x-python",
   "name": "python",
   "nbconvert_exporter": "python",
   "pygments_lexer": "ipython3",
   "version": "3.9.1"
  },
  "vscode": {
   "interpreter": {
    "hash": "7b38d078fcfc36b23f84de8019b1148ea1731391b1f514367b1c8053c2af9246"
   }
  }
 },
 "nbformat": 4,
 "nbformat_minor": 1
}
