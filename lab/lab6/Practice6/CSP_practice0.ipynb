{
 "cells": [
  {
   "cell_type": "code",
   "execution_count": 15,
   "id": "4afb24f8",
   "metadata": {
    "pycharm": {
     "name": ""
    }
   },
   "outputs": [],
   "source": [
    "# Look The Note Below!!!\n",
    "\n",
    "import numpy as np\n",
    "import time\n",
    "\n",
    "N = 4 # You shoule change the test size here !!!\n",
    "\n",
    "def my_range(start, end):\n",
    "    if start <= end:\n",
    "        return range(start, end + 1)\n",
    "    else:\n",
    "        return range(start, end - 1, -1)\n",
    "\n",
    "\n",
    "class Problem:\n",
    "    char_mapping = ('·', 'Q')\n",
    "\n",
    "    def __init__(self, n=4):\n",
    "        self.n = n\n",
    "\n",
    "    def is_valid(self, state):\n",
    "        \"\"\"\n",
    "        check the state satisfy condition or not.\n",
    "        :param state: list of points (in (row id, col id) tuple form)\n",
    "        :return: bool value of valid or not\n",
    "        \"\"\"\n",
    "        board = self.get_board(state)\n",
    "        res = True\n",
    "        for point in state:\n",
    "            i, j = point\n",
    "            condition1 = board[:, j].sum() <= 1\n",
    "            condition2 = board[i, :].sum() <= 1\n",
    "            condition3 = self.pos_slant_condition(board, point)\n",
    "            condition4 = self.neg_slant_condition(board, point)\n",
    "            res = res and condition1 and condition2 and condition3 and condition4\n",
    "            if not res:\n",
    "                break\n",
    "        return res\n",
    "\n",
    "    def is_satisfy(self, state):\n",
    "        return self.is_valid(state) and len(state) == self.n\n",
    "\n",
    "    def pos_slant_condition(self, board, point):\n",
    "        i, j = point\n",
    "        tmp = min(self.n - i - 1, j)\n",
    "        start = (i + tmp, j - tmp)\n",
    "        tmp = min(i, self.n - j - 1)\n",
    "        end = (i - tmp,  j + tmp)\n",
    "        rows = my_range(start[0], end[0])\n",
    "        cols = my_range(start[1], end[1])\n",
    "        return board[rows, cols].sum() <= 1\n",
    "\n",
    "    def neg_slant_condition(self, board, point):\n",
    "        i, j = point\n",
    "        tmp = min(i, j)\n",
    "        start = (i - tmp, j - tmp)\n",
    "        tmp = min(self.n - i - 1, self.n - j - 1)\n",
    "        end = (i + tmp, j + tmp)\n",
    "        rows = my_range(start[0], end[0])\n",
    "        cols = my_range(start[1], end[1])\n",
    "        return board[rows, cols].sum() <= 1\n",
    "\n",
    "    def get_board(self, state):\n",
    "        board = np.zeros([self.n, self.n], dtype=int)\n",
    "        for point in state:\n",
    "            board[point] = 1\n",
    "        return board\n",
    "\n",
    "    def print_state(self, state):\n",
    "        board = self.get_board(state)\n",
    "        print('_' * (2 * self.n + 1))\n",
    "        for row in board:\n",
    "            for item in row:\n",
    "                print(f'|{Problem.char_mapping[item]}', end='')\n",
    "            print('|')\n",
    "        print('-' * (2 * self.n + 1))"
   ]
  },
  {
   "cell_type": "markdown",
   "id": "a7793fb8",
   "metadata": {
    "notebookRunGroups": {
     "groupValue": ""
    }
   },
   "source": [
    "# Read the note First ! ! !\n",
    "#### In all the code above, only two of the function usages are needed. One is is_valid(self, state), which is to determine if the current state is legal; the other is is_satisfy(self, state), which is to determine if the current board meets the win condition. All the other functions can be used without looking at them.\n",
    "#### The type of state is [], which stores the tuples(a, b), representing the positions of the queens in it.\n",
    "#### In the first line of the code you can see N = 5, this is the size of the test.\n",
    "#### Then in the test_block that follows, render indicates whether to use a graphical interface representation, and then method indicates which bts are used(bts or improving_bts).\n",
    "\n",
    "### Request 1: You should complete the function bts(problem). \n",
    "You can only use iterative way, not recursive.油饼？ Using recursion will incur a **20% penalty**. And you can add any function you want. (**DDL: 10.28**)\n",
    "### Request 2: You should complete the function improving_bts(problem). \n",
    "You can select one or more methods of the three methods below(Minimum Remaining Value, Least constraining value, Forward checking), but you should have a good performance **when N = 16 without GUI**. (**DDL: 11.04**)"
   ]
  },
  {
   "cell_type": "markdown",
   "id": "a48f87d8",
   "metadata": {
    "pycharm": {
     "name": "#%% md\n"
    }
   },
   "source": [
    "# BTS: Backtracking search (Request 1, DDL: 10.28)"
   ]
  },
  {
   "cell_type": "code",
   "execution_count": 16,
   "id": "1f9e8ac1",
   "metadata": {
    "pycharm": {
     "name": "#%%\n"
    }
   },
   "outputs": [],
   "source": [
    "def bts(problem):\n",
    "    stack = [(0,0),(0,1),(0,2),(0,3)]\n",
    "    action_stack = []\n",
    "    direction = [(1,0),(-1,0),(0,1),(0,-1),(1,1),(-1,-1),(1,-1),(-1,1)]\n",
    "    board = np.zeros(problem.n,problem.n)\n",
    "    cnt = 0\n",
    "    while not problem.is_satisfy(action_stack):\n",
    "        cur = stack.pop()\n",
    "        cnt += 1\n",
    "        for dir in direction:\n",
    "            x = cur[0]\n",
    "            y = cur[1]\n",
    "            board[x][y] = 1\n",
    "            while True:\n",
    "                x += dir[0]\n",
    "                y += dir[1]\n",
    "                if 0 <= x < problem.n and 0 <= y < problem.n:\n",
    "                    board[x][y] = 1\n",
    "                else:\n",
    "                    break\n",
    "        actions = np.where(board == 0)\n",
    "        stack.append(list(zip(actions[0], actions[1])))\n",
    "        action_stack.append(cur)\n",
    "    return action_stack\n",
    "        # You can know what yield means in CSDN~\n",
    "n = N\n",
    "p = Problem(n)\n",
    "method = bts\n",
    "b = method(p)"
   ]
  },
  {
   "cell_type": "markdown",
   "id": "f925203f",
   "metadata": {
    "pycharm": {
     "name": "#%% md\n"
    }
   },
   "source": [
    "# Improving BTS To DO (Request 2, DDL: 11.04)\n",
    "* Which variable should be assigned next?\n",
    "* In what order should its values be tried?\n",
    "* Can we detect inevitable failure early?\n",
    "\n",
    "### Minimum Remaining Value\n",
    "Choose the variable with the fewest legal values in its domain\n",
    "### Least constraining value\n",
    "Given a variable, choose the least constraining value: the one that rules out the fewest values in the remaining variables\n",
    "### Forward checking\n",
    "Keep track of remaining legal values for the unassigned variables. Terminate when any variable has no legal values."
   ]
  },
  {
   "cell_type": "code",
   "execution_count": 24,
   "id": "8f840339",
   "metadata": {
    "pycharm": {
     "name": "#%%\n"
    }
   },
   "outputs": [],
   "source": [
    "def improving_bts(problem):\n",
    "    action_stack = []\n",
    "    while not problem.is_satisfy(action_stack):\n",
    "        \n",
    "        yield action_stack"
   ]
  },
  {
   "cell_type": "code",
   "execution_count": 25,
   "id": "93d2cb99",
   "metadata": {
    "pycharm": {
     "name": "#%%\n"
    }
   },
   "outputs": [
    {
     "name": "stdout",
     "output_type": "stream",
     "text": [
      "pygame 2.1.2 (SDL 2.0.18, Python 3.9.12)\n",
      "Hello from the pygame community. https://www.pygame.org/contribute.html\n"
     ]
    },
    {
     "ename": "KeyboardInterrupt",
     "evalue": "",
     "output_type": "error",
     "traceback": [
      "\u001b[1;31m---------------------------------------------------------------------------\u001b[0m",
      "\u001b[1;31mKeyboardInterrupt\u001b[0m                         Traceback (most recent call last)",
      "Cell \u001b[1;32mIn [25], line 30\u001b[0m\n\u001b[0;32m     28\u001b[0m         \u001b[39mexcept\u001b[39;00m \u001b[39mStopIteration\u001b[39;00m:\n\u001b[0;32m     29\u001b[0m             \u001b[39mpass\u001b[39;00m\n\u001b[1;32m---> 30\u001b[0m         clk\u001b[39m.\u001b[39;49mtick(\u001b[39m5\u001b[39;49m)\n\u001b[0;32m     31\u001b[0m     \u001b[39mpass\u001b[39;00m\n\u001b[0;32m     32\u001b[0m \u001b[39melse\u001b[39;00m:\n",
      "\u001b[1;31mKeyboardInterrupt\u001b[0m: "
     ]
    },
    {
     "ename": "",
     "evalue": "",
     "output_type": "error",
     "traceback": [
      "\u001b[1;31mThe Kernel crashed while executing code in the the current cell or a previous cell. Please review the code in the cell(s) to identify a possible cause of the failure. Click <a href='https://aka.ms/vscodeJupyterKernelCrash'>here</a> for more info. View Jupyter <a href='command:jupyter.viewOutput'>log</a> for further details."
     ]
    }
   ],
   "source": [
    "\n",
    "# test_block\n",
    "n = N # Do not modify this parameter, if you want to change the size, go to the first line of whole program.\n",
    "render = True # here to select GUI or not\n",
    "method = bts  # here to change your method; bts or improving_bts\n",
    "p = Problem(n)\n",
    "if render:\n",
    "    import pygame\n",
    "    w, h = 90 * n + 10, 90 * n + 10\n",
    "    screen = pygame.display.set_mode((w, h))\n",
    "    screen.fill('white')\n",
    "    action_generator = method(p)\n",
    "    clk = pygame.time.Clock()\n",
    "    queen_img = pygame.image.load('./queen.png')\n",
    "    while True:\n",
    "        for event in pygame.event.get():\n",
    "            if event == pygame.QUIT:\n",
    "                exit()\n",
    "        try:\n",
    "            actions = next(action_generator)\n",
    "            screen.fill('white')\n",
    "            for i in range(n + 1):\n",
    "                pygame.draw.rect(screen, 'black', (i * 90, 0, 10, h))\n",
    "                pygame.draw.rect(screen, 'black', (0, i * 90, w, 10))\n",
    "            for action in actions:\n",
    "                i, j = action\n",
    "                screen.blit(queen_img, (10 + 90 * j, 10 + 90 * i))\n",
    "            pygame.display.flip()\n",
    "        except StopIteration:\n",
    "            pass\n",
    "        clk.tick(5)\n",
    "    pass\n",
    "else:\n",
    "    start_time = time.time()\n",
    "    for actions in method(p):\n",
    "        pass\n",
    "    p.print_state(actions)\n",
    "    print(time.time() - start_time)\n"
   ]
  }
 ],
 "metadata": {
  "kernelspec": {
   "display_name": "Python 3.9.12 ('base')",
   "language": "python",
   "name": "python3"
  },
  "language_info": {
   "codemirror_mode": {
    "name": "ipython",
    "version": 3
   },
   "file_extension": ".py",
   "mimetype": "text/x-python",
   "name": "python",
   "nbconvert_exporter": "python",
   "pygments_lexer": "ipython3",
   "version": "3.9.12"
  },
  "vscode": {
   "interpreter": {
    "hash": "e0de05aca30c2091085a69a7ec6b5f2d82d49e30e8cadd8c74ff9a7b0568709d"
   }
  }
 },
 "nbformat": 4,
 "nbformat_minor": 5
}
