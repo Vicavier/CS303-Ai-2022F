{
 "cells": [
  {
   "cell_type": "code",
   "execution_count": 1,
   "metadata": {},
   "outputs": [
    {
     "name": "stdout",
     "output_type": "stream",
     "text": [
      "[[0 0 0 0]\n",
      " [0 1 1 1]\n",
      " [0 0 0 0]\n",
      " [1 1 1 1]]\n",
      "(array([1, 1, 1, 3, 3, 3, 3], dtype=int64), array([1, 2, 3, 0, 1, 2, 3], dtype=int64))\n",
      "(1, 1)\n",
      "(1, 2)\n",
      "(1, 3)\n",
      "(3, 0)\n",
      "(3, 1)\n",
      "(3, 2)\n",
      "(3, 3)\n",
      "1\n"
     ]
    }
   ],
   "source": [
    "import numpy as np\n",
    "\n",
    "a = np.array([[0,0,0,0],[0,1,1,1],[0,0,0,0],[1,1,1,1]])\n",
    "b = np.where(a == 1)\n",
    "print(a)\n",
    "print(b)\n",
    "l = list(zip(b[0],b[1]))\n",
    "for i in l:\n",
    "    print(i)\n",
    "print(a[l[0]])"
   ]
  },
  {
   "cell_type": "code",
   "execution_count": 2,
   "metadata": {},
   "outputs": [
    {
     "name": "stdout",
     "output_type": "stream",
     "text": [
      "[2, 3, 4, 5, 6]\n",
      "0\n"
     ]
    }
   ],
   "source": [
    "list =[2,3,4]\n",
    "list2 = [5,6]\n",
    "list += list2\n",
    "print(list)\n",
    "print(a[0,0])"
   ]
  },
  {
   "cell_type": "code",
   "execution_count": 3,
   "metadata": {},
   "outputs": [
    {
     "data": {
      "text/plain": [
       "True"
      ]
     },
     "execution_count": 3,
     "metadata": {},
     "output_type": "execute_result"
    }
   ],
   "source": [
    "x = 1\n",
    "0 < x < 2"
   ]
  },
  {
   "cell_type": "code",
   "execution_count": 4,
   "metadata": {},
   "outputs": [
    {
     "data": {
      "text/plain": [
       "[1, 1, 1, 1]"
      ]
     },
     "execution_count": 4,
     "metadata": {},
     "output_type": "execute_result"
    }
   ],
   "source": [
    "list = [1,2,3]\n",
    "list\n",
    "dir = [1,1]\n",
    "[1,1]+dir"
   ]
  },
  {
   "cell_type": "code",
   "execution_count": 12,
   "metadata": {},
   "outputs": [
    {
     "data": {
      "text/plain": [
       "[[1, 8, 3, 7, 7, 3, 8, 1],\n",
       " [3, 2, 6, 6, 6, 6, 2, 3],\n",
       " [7, 5, 6, 4, 4, 6, 5, 7],\n",
       " [8, 3, 2, 5, 5, 2, 4, 8]]"
      ]
     },
     "execution_count": 12,
     "metadata": {},
     "output_type": "execute_result"
    }
   ],
   "source": [
    "board_weight = [[1, 8, 3, 7, 7, 3, 8, 1], [8, 3, 2, 5, 5, 2, 4, 8], [3, 2, 6, 6, 6, 6, 2, 3], [7, 5, 6, 4, 4, 6, 5, 7], [\n",
    "    7, 5, 6, 4, 4, 6, 5, 7], [3, 2, 6, 6, 6, 6, 2, 3], [8, 3, 2, 5, 5, 2, 4, 8], [1, 8, 3, 7, 7, 3, 8, 1]]\n",
    "board_weight[::2]"
   ]
  },
  {
   "cell_type": "code",
   "execution_count": 11,
   "metadata": {},
   "outputs": [
    {
     "data": {
      "text/plain": [
       "{'a', 'b'}"
      ]
     },
     "execution_count": 11,
     "metadata": {},
     "output_type": "execute_result"
    }
   ],
   "source": [
    "def A(**kwds):\n",
    "    print(kwds)\n",
    "squares = {(x, y) for x in range(8) for y in range(8)}\n",
    "type(squares)\n",
    "dict = {\"a\":\"aaaaaaaaa\", \"b\":\"vvvvvvvvvvvvv\"}\n",
    "set(dict)"
   ]
  },
  {
   "cell_type": "code",
   "execution_count": 2,
   "metadata": {},
   "outputs": [
    {
     "name": "stdout",
     "output_type": "stream",
     "text": [
      "0.3597142857142857\n",
      "6.1313157894736845\n"
     ]
    }
   ],
   "source": [
    "from numpy import average\n",
    "\n",
    "\n",
    "ab = [0.03, 0.09, 0.09, 0.2, 0.41, 0.49, 0.78, 0.93, 0.72, 0.9, 0.35, 1.3, 0.3, 0.24, 0.4, 0.39, 0.54, 0.29, 0.7, 0.33, 0.78, 0.36, 0.63, 0.26, 0.0, 0.15, 0.39, 0.05, 0.32, 0.09, 0.07, 0.01, 0.0, 0.0, 0.0]\n",
    "mm = [0.28, 0.38, 1.21, 1.37, 3.08, 1.21, 3.66, 6.74, 9.61, 15.37, 10.17, 14.66, 20.03, 5.08, 19.1, 9.53, 3.41, 10.89, 10.76, 13.43, 8.68, 9.83, 8.03, 7.38, 9.32, 3.98, 4.09, 8.53, 1.68, 3.78, 3.36, 0.0, 1.9, 1.35, 0.86, 0.15, 0.1, 0.0]\n",
    "print(average(ab))\n",
    "print(average(mm))"
   ]
  }
 ],
 "metadata": {
  "kernelspec": {
   "display_name": "Python 3.9.12 ('base')",
   "language": "python",
   "name": "python3"
  },
  "language_info": {
   "codemirror_mode": {
    "name": "ipython",
    "version": 3
   },
   "file_extension": ".py",
   "mimetype": "text/x-python",
   "name": "python",
   "nbconvert_exporter": "python",
   "pygments_lexer": "ipython3",
   "version": "3.9.12"
  },
  "orig_nbformat": 4,
  "vscode": {
   "interpreter": {
    "hash": "e0de05aca30c2091085a69a7ec6b5f2d82d49e30e8cadd8c74ff9a7b0568709d"
   }
  }
 },
 "nbformat": 4,
 "nbformat_minor": 2
}
